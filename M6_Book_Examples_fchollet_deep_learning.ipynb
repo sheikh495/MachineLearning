{
  "cells": [
    {
      "cell_type": "markdown",
      "metadata": {
        "id": "view-in-github",
        "colab_type": "text"
      },
      "source": [
        "<a href=\"https://colab.research.google.com/github/sheikh495/MachineLearning/blob/main/M6_Book_Examples_fchollet_deep_learning.ipynb\" target=\"_parent\"><img src=\"https://colab.research.google.com/assets/colab-badge.svg\" alt=\"Open In Colab\"/></a>"
      ]
    },
    {
      "cell_type": "markdown",
      "metadata": {
        "id": "kIFBQ_aWx6Mk"
      },
      "source": [
        "This is a companion notebook for the book [Deep Learning with Python, Second Edition](https://www.manning.com/books/deep-learning-with-python-second-edition?a_aid=keras&a_bid=76564dff). For readability, it only contains runnable code blocks and section titles, and omits everything else in the book: text paragraphs, figures, and pseudocode.\n",
        "\n",
        "**If you want to be able to follow what's going on, I recommend reading the notebook side by side with your copy of the book.**\n",
        "\n",
        "This notebook was generated for TensorFlow 2.6."
      ]
    },
    {
      "cell_type": "markdown",
      "metadata": {
        "id": "E841_csDx6Mm"
      },
      "source": [
        "# Getting started with neural networks: Classification and regression"
      ]
    },
    {
      "cell_type": "markdown",
      "metadata": {
        "id": "F5ZuBqWwx6Mn"
      },
      "source": [
        "## Classifying movie reviews: A binary classification example"
      ]
    },
    {
      "cell_type": "markdown",
      "metadata": {
        "id": "zg84T0vDx6Mn"
      },
      "source": [
        "### The IMDB dataset"
      ]
    },
    {
      "cell_type": "markdown",
      "metadata": {
        "id": "bsbqr-0dx6Mn"
      },
      "source": [
        "**Loading the IMDB dataset**"
      ]
    },
    {
      "cell_type": "code",
      "execution_count": 1,
      "metadata": {
        "colab": {
          "base_uri": "https://localhost:8080/"
        },
        "id": "ATlfm-2bx6Mo",
        "outputId": "2f921aa8-7e9e-45e0-e904-26d73dd589bd"
      },
      "outputs": [
        {
          "output_type": "stream",
          "name": "stdout",
          "text": [
            "Downloading data from https://storage.googleapis.com/tensorflow/tf-keras-datasets/imdb.npz\n",
            "17464789/17464789 [==============================] - 0s 0us/step\n"
          ]
        }
      ],
      "source": [
        "from tensorflow.keras.datasets import imdb\n",
        "(train_data, train_labels), (test_data, test_labels) = imdb.load_data(\n",
        "    num_words=10000)"
      ]
    },
    {
      "cell_type": "code",
      "execution_count": 2,
      "metadata": {
        "colab": {
          "base_uri": "https://localhost:8080/"
        },
        "id": "XR2CZSHRx6Mp",
        "outputId": "eee6eff9-634d-445e-b31d-07446d3f6df1"
      },
      "outputs": [
        {
          "output_type": "execute_result",
          "data": {
            "text/plain": [
              "[1,\n",
              " 14,\n",
              " 22,\n",
              " 16,\n",
              " 43,\n",
              " 530,\n",
              " 973,\n",
              " 1622,\n",
              " 1385,\n",
              " 65,\n",
              " 458,\n",
              " 4468,\n",
              " 66,\n",
              " 3941,\n",
              " 4,\n",
              " 173,\n",
              " 36,\n",
              " 256,\n",
              " 5,\n",
              " 25,\n",
              " 100,\n",
              " 43,\n",
              " 838,\n",
              " 112,\n",
              " 50,\n",
              " 670,\n",
              " 2,\n",
              " 9,\n",
              " 35,\n",
              " 480,\n",
              " 284,\n",
              " 5,\n",
              " 150,\n",
              " 4,\n",
              " 172,\n",
              " 112,\n",
              " 167,\n",
              " 2,\n",
              " 336,\n",
              " 385,\n",
              " 39,\n",
              " 4,\n",
              " 172,\n",
              " 4536,\n",
              " 1111,\n",
              " 17,\n",
              " 546,\n",
              " 38,\n",
              " 13,\n",
              " 447,\n",
              " 4,\n",
              " 192,\n",
              " 50,\n",
              " 16,\n",
              " 6,\n",
              " 147,\n",
              " 2025,\n",
              " 19,\n",
              " 14,\n",
              " 22,\n",
              " 4,\n",
              " 1920,\n",
              " 4613,\n",
              " 469,\n",
              " 4,\n",
              " 22,\n",
              " 71,\n",
              " 87,\n",
              " 12,\n",
              " 16,\n",
              " 43,\n",
              " 530,\n",
              " 38,\n",
              " 76,\n",
              " 15,\n",
              " 13,\n",
              " 1247,\n",
              " 4,\n",
              " 22,\n",
              " 17,\n",
              " 515,\n",
              " 17,\n",
              " 12,\n",
              " 16,\n",
              " 626,\n",
              " 18,\n",
              " 2,\n",
              " 5,\n",
              " 62,\n",
              " 386,\n",
              " 12,\n",
              " 8,\n",
              " 316,\n",
              " 8,\n",
              " 106,\n",
              " 5,\n",
              " 4,\n",
              " 2223,\n",
              " 5244,\n",
              " 16,\n",
              " 480,\n",
              " 66,\n",
              " 3785,\n",
              " 33,\n",
              " 4,\n",
              " 130,\n",
              " 12,\n",
              " 16,\n",
              " 38,\n",
              " 619,\n",
              " 5,\n",
              " 25,\n",
              " 124,\n",
              " 51,\n",
              " 36,\n",
              " 135,\n",
              " 48,\n",
              " 25,\n",
              " 1415,\n",
              " 33,\n",
              " 6,\n",
              " 22,\n",
              " 12,\n",
              " 215,\n",
              " 28,\n",
              " 77,\n",
              " 52,\n",
              " 5,\n",
              " 14,\n",
              " 407,\n",
              " 16,\n",
              " 82,\n",
              " 2,\n",
              " 8,\n",
              " 4,\n",
              " 107,\n",
              " 117,\n",
              " 5952,\n",
              " 15,\n",
              " 256,\n",
              " 4,\n",
              " 2,\n",
              " 7,\n",
              " 3766,\n",
              " 5,\n",
              " 723,\n",
              " 36,\n",
              " 71,\n",
              " 43,\n",
              " 530,\n",
              " 476,\n",
              " 26,\n",
              " 400,\n",
              " 317,\n",
              " 46,\n",
              " 7,\n",
              " 4,\n",
              " 2,\n",
              " 1029,\n",
              " 13,\n",
              " 104,\n",
              " 88,\n",
              " 4,\n",
              " 381,\n",
              " 15,\n",
              " 297,\n",
              " 98,\n",
              " 32,\n",
              " 2071,\n",
              " 56,\n",
              " 26,\n",
              " 141,\n",
              " 6,\n",
              " 194,\n",
              " 7486,\n",
              " 18,\n",
              " 4,\n",
              " 226,\n",
              " 22,\n",
              " 21,\n",
              " 134,\n",
              " 476,\n",
              " 26,\n",
              " 480,\n",
              " 5,\n",
              " 144,\n",
              " 30,\n",
              " 5535,\n",
              " 18,\n",
              " 51,\n",
              " 36,\n",
              " 28,\n",
              " 224,\n",
              " 92,\n",
              " 25,\n",
              " 104,\n",
              " 4,\n",
              " 226,\n",
              " 65,\n",
              " 16,\n",
              " 38,\n",
              " 1334,\n",
              " 88,\n",
              " 12,\n",
              " 16,\n",
              " 283,\n",
              " 5,\n",
              " 16,\n",
              " 4472,\n",
              " 113,\n",
              " 103,\n",
              " 32,\n",
              " 15,\n",
              " 16,\n",
              " 5345,\n",
              " 19,\n",
              " 178,\n",
              " 32]"
            ]
          },
          "metadata": {},
          "execution_count": 2
        }
      ],
      "source": [
        "train_data[0]"
      ]
    },
    {
      "cell_type": "code",
      "execution_count": 3,
      "metadata": {
        "colab": {
          "base_uri": "https://localhost:8080/"
        },
        "id": "_LSg4s5_x6Mp",
        "outputId": "8b0632e8-359a-411e-ac4e-b1f0c155773d"
      },
      "outputs": [
        {
          "output_type": "execute_result",
          "data": {
            "text/plain": [
              "1"
            ]
          },
          "metadata": {},
          "execution_count": 3
        }
      ],
      "source": [
        "train_labels[0]"
      ]
    },
    {
      "cell_type": "code",
      "execution_count": 4,
      "metadata": {
        "colab": {
          "base_uri": "https://localhost:8080/"
        },
        "id": "krrHxvdVx6Mq",
        "outputId": "224ed329-ad90-40bd-aff8-a5dfa4eab2fb"
      },
      "outputs": [
        {
          "output_type": "execute_result",
          "data": {
            "text/plain": [
              "9999"
            ]
          },
          "metadata": {},
          "execution_count": 4
        }
      ],
      "source": [
        "max([max(sequence) for sequence in train_data])"
      ]
    },
    {
      "cell_type": "markdown",
      "metadata": {
        "id": "C_x5GdhFx6Mq"
      },
      "source": [
        "**Decoding reviews back to text**"
      ]
    },
    {
      "cell_type": "code",
      "execution_count": 5,
      "metadata": {
        "colab": {
          "base_uri": "https://localhost:8080/"
        },
        "id": "t-x2MLFmx6Mr",
        "outputId": "7375c4d5-a6dc-4a3b-b6a8-6b5c4d389bbd"
      },
      "outputs": [
        {
          "output_type": "stream",
          "name": "stdout",
          "text": [
            "Downloading data from https://storage.googleapis.com/tensorflow/tf-keras-datasets/imdb_word_index.json\n",
            "1641221/1641221 [==============================] - 0s 0us/step\n"
          ]
        }
      ],
      "source": [
        "word_index = imdb.get_word_index()\n",
        "reverse_word_index = dict(\n",
        "    [(value, key) for (key, value) in word_index.items()])\n",
        "decoded_review = \" \".join(\n",
        "    [reverse_word_index.get(i - 3, \"?\") for i in train_data[0]])"
      ]
    },
    {
      "cell_type": "markdown",
      "metadata": {
        "id": "0IzABtQ-x6Mr"
      },
      "source": [
        "### Preparing the data"
      ]
    },
    {
      "cell_type": "markdown",
      "metadata": {
        "id": "FtqoeEiox6Ms"
      },
      "source": [
        "**Encoding the integer sequences via multi-hot encoding**"
      ]
    },
    {
      "cell_type": "code",
      "execution_count": 6,
      "metadata": {
        "id": "ADE3jk2nx6Ms"
      },
      "outputs": [],
      "source": [
        "import numpy as np\n",
        "def vectorize_sequences(sequences, dimension=10000):\n",
        "    results = np.zeros((len(sequences), dimension))\n",
        "    for i, sequence in enumerate(sequences):\n",
        "        for j in sequence:\n",
        "            results[i, j] = 1.\n",
        "    return results\n",
        "x_train = vectorize_sequences(train_data)\n",
        "x_test = vectorize_sequences(test_data)"
      ]
    },
    {
      "cell_type": "code",
      "execution_count": 7,
      "metadata": {
        "colab": {
          "base_uri": "https://localhost:8080/"
        },
        "id": "f_TgGFwfx6Mt",
        "outputId": "85282834-4828-4238-cc66-82206dc2412c"
      },
      "outputs": [
        {
          "output_type": "execute_result",
          "data": {
            "text/plain": [
              "array([0., 1., 1., ..., 0., 0., 0.])"
            ]
          },
          "metadata": {},
          "execution_count": 7
        }
      ],
      "source": [
        "x_train[0]"
      ]
    },
    {
      "cell_type": "code",
      "execution_count": 8,
      "metadata": {
        "id": "EvxnEvPVx6Mt"
      },
      "outputs": [],
      "source": [
        "y_train = np.asarray(train_labels).astype(\"float32\")\n",
        "y_test = np.asarray(test_labels).astype(\"float32\")"
      ]
    },
    {
      "cell_type": "markdown",
      "metadata": {
        "id": "V9dcOoq7x6Mt"
      },
      "source": [
        "### Building your model"
      ]
    },
    {
      "cell_type": "markdown",
      "metadata": {
        "id": "rofnJqaRx6Mu"
      },
      "source": [
        "**Model definition**"
      ]
    },
    {
      "cell_type": "code",
      "execution_count": 9,
      "metadata": {
        "id": "2EtCDC9ax6Mu"
      },
      "outputs": [],
      "source": [
        "from tensorflow import keras\n",
        "from tensorflow.keras import layers\n",
        "\n",
        "model = keras.Sequential([\n",
        "    layers.Dense(16, activation=\"relu\"),\n",
        "    layers.Dense(16, activation=\"relu\"),\n",
        "    layers.Dense(1, activation=\"sigmoid\")\n",
        "])"
      ]
    },
    {
      "cell_type": "markdown",
      "metadata": {
        "id": "c8gcNx1Wx6Mu"
      },
      "source": [
        "**Compiling the model**"
      ]
    },
    {
      "cell_type": "code",
      "execution_count": 10,
      "metadata": {
        "id": "hnaaPMvEx6Mv"
      },
      "outputs": [],
      "source": [
        "model.compile(optimizer=\"rmsprop\",\n",
        "              loss=\"binary_crossentropy\",\n",
        "              metrics=[\"accuracy\"])"
      ]
    },
    {
      "cell_type": "markdown",
      "metadata": {
        "id": "us_oYXfrx6Mv"
      },
      "source": [
        "### Validating your approach"
      ]
    },
    {
      "cell_type": "markdown",
      "metadata": {
        "id": "JtfsvgdVx6Mv"
      },
      "source": [
        "**Setting aside a validation set**"
      ]
    },
    {
      "cell_type": "code",
      "execution_count": 11,
      "metadata": {
        "id": "vLhyJq9Cx6Mv"
      },
      "outputs": [],
      "source": [
        "x_val = x_train[:10000]\n",
        "partial_x_train = x_train[10000:]\n",
        "y_val = y_train[:10000]\n",
        "partial_y_train = y_train[10000:]"
      ]
    },
    {
      "cell_type": "markdown",
      "metadata": {
        "id": "5tC5rkfEx6Mw"
      },
      "source": [
        "**Training your model**"
      ]
    },
    {
      "cell_type": "code",
      "execution_count": 12,
      "metadata": {
        "colab": {
          "base_uri": "https://localhost:8080/"
        },
        "id": "KQ3rF2IPx6Mw",
        "outputId": "5ba84762-c638-483d-9bc9-c31d4711d16b"
      },
      "outputs": [
        {
          "output_type": "stream",
          "name": "stdout",
          "text": [
            "Epoch 1/20\n",
            "30/30 [==============================] - 3s 85ms/step - loss: 0.5359 - accuracy: 0.7794 - val_loss: 0.4052 - val_accuracy: 0.8631\n",
            "Epoch 2/20\n",
            "30/30 [==============================] - 2s 57ms/step - loss: 0.3333 - accuracy: 0.8911 - val_loss: 0.3146 - val_accuracy: 0.8817\n",
            "Epoch 3/20\n",
            "30/30 [==============================] - 1s 34ms/step - loss: 0.2474 - accuracy: 0.9168 - val_loss: 0.2842 - val_accuracy: 0.8895\n",
            "Epoch 4/20\n",
            "30/30 [==============================] - 1s 36ms/step - loss: 0.2011 - accuracy: 0.9336 - val_loss: 0.3074 - val_accuracy: 0.8761\n",
            "Epoch 5/20\n",
            "30/30 [==============================] - 1s 33ms/step - loss: 0.1668 - accuracy: 0.9451 - val_loss: 0.2771 - val_accuracy: 0.8857\n",
            "Epoch 6/20\n",
            "30/30 [==============================] - 1s 33ms/step - loss: 0.1422 - accuracy: 0.9525 - val_loss: 0.2848 - val_accuracy: 0.8852\n",
            "Epoch 7/20\n",
            "30/30 [==============================] - 1s 35ms/step - loss: 0.1214 - accuracy: 0.9617 - val_loss: 0.3179 - val_accuracy: 0.8815\n",
            "Epoch 8/20\n",
            "30/30 [==============================] - 1s 35ms/step - loss: 0.1062 - accuracy: 0.9679 - val_loss: 0.3411 - val_accuracy: 0.8782\n",
            "Epoch 9/20\n",
            "30/30 [==============================] - 1s 34ms/step - loss: 0.0929 - accuracy: 0.9715 - val_loss: 0.3274 - val_accuracy: 0.8812\n",
            "Epoch 10/20\n",
            "30/30 [==============================] - 1s 35ms/step - loss: 0.0776 - accuracy: 0.9787 - val_loss: 0.3487 - val_accuracy: 0.8762\n",
            "Epoch 11/20\n",
            "30/30 [==============================] - 1s 36ms/step - loss: 0.0673 - accuracy: 0.9817 - val_loss: 0.3719 - val_accuracy: 0.8786\n",
            "Epoch 12/20\n",
            "30/30 [==============================] - 1s 38ms/step - loss: 0.0583 - accuracy: 0.9847 - val_loss: 0.3916 - val_accuracy: 0.8778\n",
            "Epoch 13/20\n",
            "30/30 [==============================] - 1s 50ms/step - loss: 0.0486 - accuracy: 0.9880 - val_loss: 0.4148 - val_accuracy: 0.8750\n",
            "Epoch 14/20\n",
            "30/30 [==============================] - 1s 44ms/step - loss: 0.0429 - accuracy: 0.9907 - val_loss: 0.4339 - val_accuracy: 0.8720\n",
            "Epoch 15/20\n",
            "30/30 [==============================] - 1s 34ms/step - loss: 0.0345 - accuracy: 0.9936 - val_loss: 0.4587 - val_accuracy: 0.8743\n",
            "Epoch 16/20\n",
            "30/30 [==============================] - 1s 35ms/step - loss: 0.0324 - accuracy: 0.9931 - val_loss: 0.4862 - val_accuracy: 0.8725\n",
            "Epoch 17/20\n",
            "30/30 [==============================] - 1s 34ms/step - loss: 0.0278 - accuracy: 0.9937 - val_loss: 0.5156 - val_accuracy: 0.8708\n",
            "Epoch 18/20\n",
            "30/30 [==============================] - 1s 35ms/step - loss: 0.0254 - accuracy: 0.9943 - val_loss: 0.5348 - val_accuracy: 0.8668\n",
            "Epoch 19/20\n",
            "30/30 [==============================] - 1s 35ms/step - loss: 0.0177 - accuracy: 0.9984 - val_loss: 0.5501 - val_accuracy: 0.8688\n",
            "Epoch 20/20\n",
            "30/30 [==============================] - 1s 35ms/step - loss: 0.0191 - accuracy: 0.9963 - val_loss: 0.5711 - val_accuracy: 0.8698\n"
          ]
        }
      ],
      "source": [
        "history = model.fit(partial_x_train,\n",
        "                    partial_y_train,\n",
        "                    epochs=20,\n",
        "                    batch_size=512,\n",
        "                    validation_data=(x_val, y_val))"
      ]
    },
    {
      "cell_type": "code",
      "execution_count": 13,
      "metadata": {
        "colab": {
          "base_uri": "https://localhost:8080/"
        },
        "id": "Xp009QU0x6Mw",
        "outputId": "ff185440-fe38-483b-fdb4-302b489df2eb"
      },
      "outputs": [
        {
          "output_type": "execute_result",
          "data": {
            "text/plain": [
              "dict_keys(['loss', 'accuracy', 'val_loss', 'val_accuracy'])"
            ]
          },
          "metadata": {},
          "execution_count": 13
        }
      ],
      "source": [
        "history_dict = history.history\n",
        "history_dict.keys()"
      ]
    },
    {
      "cell_type": "markdown",
      "metadata": {
        "id": "nHPRB4lVx6Mx"
      },
      "source": [
        "**Plotting the training and validation loss**"
      ]
    },
    {
      "cell_type": "code",
      "execution_count": 14,
      "metadata": {
        "colab": {
          "base_uri": "https://localhost:8080/",
          "height": 472
        },
        "id": "sNg25Gqax6Mx",
        "outputId": "857ec864-aca5-47f1-b973-dd492c55e9b2"
      },
      "outputs": [
        {
          "output_type": "display_data",
          "data": {
            "text/plain": [
              "<Figure size 640x480 with 1 Axes>"
            ],
            "image/png": "[encoded data removed]"
          },
          "metadata": {}
        }
      ],
      "source": [
        "import matplotlib.pyplot as plt\n",
        "history_dict = history.history\n",
        "loss_values = history_dict[\"loss\"]\n",
        "val_loss_values = history_dict[\"val_loss\"]\n",
        "epochs = range(1, len(loss_values) + 1)\n",
        "plt.plot(epochs, loss_values, \"bo\", label=\"Training loss\")\n",
        "plt.plot(epochs, val_loss_values, \"b\", label=\"Validation loss\")\n",
        "plt.title(\"Training and validation loss\")\n",
        "plt.xlabel(\"Epochs\")\n",
        "plt.ylabel(\"Loss\")\n",
        "plt.legend()\n",
        "plt.show()"
      ]
    },
    {
      "cell_type": "markdown",
      "metadata": {
        "id": "Hw5H1eM4x6Mx"
      },
      "source": [
        "**Plotting the training and validation accuracy**"
      ]
    },
    {
      "cell_type": "code",
      "execution_count": 15,
      "metadata": {
        "colab": {
          "base_uri": "https://localhost:8080/",
          "height": 472
        },
        "id": "T7l3JOmux6My",
        "outputId": "bdb8a0eb-c87a-4654-bb36-e0aaf0562669"
      },
      "outputs": [
        {
          "output_type": "display_data",
          "data": {
            "text/plain": [
              "<Figure size 640x480 with 1 Axes>"
            ],
            "image/png": "[encoded data removed]"
          },
          "metadata": {}
        }
      ],
      "source": [
        "plt.clf()\n",
        "acc = history_dict[\"accuracy\"]\n",
        "val_acc = history_dict[\"val_accuracy\"]\n",
        "plt.plot(epochs, acc, \"bo\", label=\"Training acc\")\n",
        "plt.plot(epochs, val_acc, \"b\", label=\"Validation acc\")\n",
        "plt.title(\"Training and validation accuracy\")\n",
        "plt.xlabel(\"Epochs\")\n",
        "plt.ylabel(\"Accuracy\")\n",
        "plt.legend()\n",
        "plt.show()"
      ]
    },
    {
      "cell_type": "markdown",
      "metadata": {
        "id": "64L88Vafx6My"
      },
      "source": [
        "**Retraining a model from scratch**"
      ]
    },
    {
      "cell_type": "code",
      "execution_count": 16,
      "metadata": {
        "colab": {
          "base_uri": "https://localhost:8080/"
        },
        "id": "NRYZu0Pix6My",
        "outputId": "1a8164eb-1a1a-4eed-a61f-e67173c703bf"
      },
      "outputs": [
        {
          "output_type": "stream",
          "name": "stdout",
          "text": [
            "Epoch 1/4\n",
            "49/49 [==============================] - 2s 37ms/step - loss: 0.5208 - accuracy: 0.7940\n",
            "Epoch 2/4\n",
            "49/49 [==============================] - 2s 31ms/step - loss: 0.3029 - accuracy: 0.8975\n",
            "Epoch 3/4\n",
            "49/49 [==============================] - 1s 24ms/step - loss: 0.2295 - accuracy: 0.9188\n",
            "Epoch 4/4\n",
            "49/49 [==============================] - 1s 24ms/step - loss: 0.1900 - accuracy: 0.9331\n",
            "782/782 [==============================] - 2s 2ms/step - loss: 0.2802 - accuracy: 0.8888\n"
          ]
        }
      ],
      "source": [
        "model = keras.Sequential([\n",
        "    layers.Dense(16, activation=\"relu\"),\n",
        "    layers.Dense(16, activation=\"relu\"),\n",
        "    layers.Dense(1, activation=\"sigmoid\")\n",
        "])\n",
        "model.compile(optimizer=\"rmsprop\",\n",
        "              loss=\"binary_crossentropy\",\n",
        "              metrics=[\"accuracy\"])\n",
        "model.fit(x_train, y_train, epochs=4, batch_size=512)\n",
        "results = model.evaluate(x_test, y_test)"
      ]
    },
    {
      "cell_type": "code",
      "execution_count": 17,
      "metadata": {
        "colab": {
          "base_uri": "https://localhost:8080/"
        },
        "id": "bUbuzCwkx6My",
        "outputId": "cce8402e-b75a-41fa-b090-1a51c0cd4d84"
      },
      "outputs": [
        {
          "output_type": "execute_result",
          "data": {
            "text/plain": [
              "[0.2802089750766754, 0.8888000249862671]"
            ]
          },
          "metadata": {},
          "execution_count": 17
        }
      ],
      "source": [
        "results"
      ]
    },
    {
      "cell_type": "markdown",
      "metadata": {
        "id": "PScLjSOnx6Mz"
      },
      "source": [
        "### Using a trained model to generate predictions on new data"
      ]
    },
    {
      "cell_type": "code",
      "execution_count": 18,
      "metadata": {
        "colab": {
          "base_uri": "https://localhost:8080/"
        },
        "id": "MhrTCVumx6Mz",
        "outputId": "f9de18e1-adf1-42e5-fbd4-f0a92001d025"
      },
      "outputs": [
        {
          "output_type": "stream",
          "name": "stdout",
          "text": [
            "782/782 [==============================] - 2s 2ms/step\n"
          ]
        },
        {
          "output_type": "execute_result",
          "data": {
            "text/plain": [
              "array([[0.21233399],\n",
              "       [0.99849755],\n",
              "       [0.8406964 ],\n",
              "       ...,\n",
              "       [0.08794363],\n",
              "       [0.05714545],\n",
              "       [0.5655904 ]], dtype=float32)"
            ]
          },
          "metadata": {},
          "execution_count": 18
        }
      ],
      "source": [
        "model.predict(x_test)"
      ]
    },
    {
      "cell_type": "markdown",
      "metadata": {
        "id": "6Sa9Eastx6M0"
      },
      "source": [
        "### Further experiments"
      ]
    },
    {
      "cell_type": "markdown",
      "metadata": {
        "id": "BlZr_KeLx6M0"
      },
      "source": [
        "### Wrapping up"
      ]
    },
    {
      "cell_type": "markdown",
      "metadata": {
        "id": "T0z02CUtx6M0"
      },
      "source": [
        "## Classifying newswires: A multiclass classification example"
      ]
    },
    {
      "cell_type": "markdown",
      "metadata": {
        "id": "o305WUeax6M8"
      },
      "source": [
        "### The Reuters dataset"
      ]
    },
    {
      "cell_type": "markdown",
      "metadata": {
        "id": "lyXqVUO8x6M9"
      },
      "source": [
        "**Loading the Reuters dataset**"
      ]
    },
    {
      "cell_type": "code",
      "execution_count": 19,
      "metadata": {
        "colab": {
          "base_uri": "https://localhost:8080/"
        },
        "id": "Q6FAF1vex6M9",
        "outputId": "afc6de3b-b760-4165-d8ec-3dfbf96fbae7"
      },
      "outputs": [
        {
          "output_type": "stream",
          "name": "stdout",
          "text": [
            "Downloading data from https://storage.googleapis.com/tensorflow/tf-keras-datasets/reuters.npz\n",
            "2110848/2110848 [==============================] - 0s 0us/step\n"
          ]
        }
      ],
      "source": [
        "from tensorflow.keras.datasets import reuters\n",
        "(train_data, train_labels), (test_data, test_labels) = reuters.load_data(\n",
        "    num_words=10000)"
      ]
    },
    {
      "cell_type": "code",
      "execution_count": 20,
      "metadata": {
        "colab": {
          "base_uri": "https://localhost:8080/"
        },
        "id": "E7T7tDw0x6M-",
        "outputId": "ff00c867-655c-402e-847f-68d629dea686"
      },
      "outputs": [
        {
          "output_type": "execute_result",
          "data": {
            "text/plain": [
              "8982"
            ]
          },
          "metadata": {},
          "execution_count": 20
        }
      ],
      "source": [
        "len(train_data)"
      ]
    },
    {
      "cell_type": "code",
      "execution_count": 21,
      "metadata": {
        "colab": {
          "base_uri": "https://localhost:8080/"
        },
        "id": "jby-b1MGx6M-",
        "outputId": "6115d3a1-322b-4841-8208-31ae5907e10e"
      },
      "outputs": [
        {
          "output_type": "execute_result",
          "data": {
            "text/plain": [
              "2246"
            ]
          },
          "metadata": {},
          "execution_count": 21
        }
      ],
      "source": [
        "len(test_data)"
      ]
    },
    {
      "cell_type": "code",
      "execution_count": 22,
      "metadata": {
        "colab": {
          "base_uri": "https://localhost:8080/"
        },
        "id": "JJRIk61fx6M-",
        "outputId": "803c2257-65ea-4542-fe8b-4ed4bf4eae01"
      },
      "outputs": [
        {
          "output_type": "execute_result",
          "data": {
            "text/plain": [
              "[1,\n",
              " 245,\n",
              " 273,\n",
              " 207,\n",
              " 156,\n",
              " 53,\n",
              " 74,\n",
              " 160,\n",
              " 26,\n",
              " 14,\n",
              " 46,\n",
              " 296,\n",
              " 26,\n",
              " 39,\n",
              " 74,\n",
              " 2979,\n",
              " 3554,\n",
              " 14,\n",
              " 46,\n",
              " 4689,\n",
              " 4329,\n",
              " 86,\n",
              " 61,\n",
              " 3499,\n",
              " 4795,\n",
              " 14,\n",
              " 61,\n",
              " 451,\n",
              " 4329,\n",
              " 17,\n",
              " 12]"
            ]
          },
          "metadata": {},
          "execution_count": 22
        }
      ],
      "source": [
        "train_data[10]"
      ]
    },
    {
      "cell_type": "markdown",
      "metadata": {
        "id": "Um1hbLEIx6M-"
      },
      "source": [
        "**Decoding newswires back to text**"
      ]
    },
    {
      "cell_type": "code",
      "execution_count": 23,
      "metadata": {
        "colab": {
          "base_uri": "https://localhost:8080/"
        },
        "id": "ixt4490_x6M_",
        "outputId": "ad1a8152-6d17-4cee-b3f8-965f4fbe0aff"
      },
      "outputs": [
        {
          "output_type": "stream",
          "name": "stdout",
          "text": [
            "Downloading data from https://storage.googleapis.com/tensorflow/tf-keras-datasets/reuters_word_index.json\n",
            "550378/550378 [==============================] - 0s 0us/step\n"
          ]
        }
      ],
      "source": [
        "word_index = reuters.get_word_index()\n",
        "reverse_word_index = dict([(value, key) for (key, value) in word_index.items()])\n",
        "decoded_newswire = \" \".join([reverse_word_index.get(i - 3, \"?\") for i in\n",
        "    train_data[0]])"
      ]
    },
    {
      "cell_type": "code",
      "execution_count": 24,
      "metadata": {
        "colab": {
          "base_uri": "https://localhost:8080/"
        },
        "id": "RCUVnRbBx6M_",
        "outputId": "58e538ba-b7ab-4d3e-9b78-d71dd7532909"
      },
      "outputs": [
        {
          "output_type": "execute_result",
          "data": {
            "text/plain": [
              "3"
            ]
          },
          "metadata": {},
          "execution_count": 24
        }
      ],
      "source": [
        "train_labels[10]"
      ]
    },
    {
      "cell_type": "markdown",
      "metadata": {
        "id": "YhSdHldux6M_"
      },
      "source": [
        "### Preparing the data"
      ]
    },
    {
      "cell_type": "markdown",
      "metadata": {
        "id": "Lkdj6UC3x6M_"
      },
      "source": [
        "**Encoding the input data**"
      ]
    },
    {
      "cell_type": "code",
      "execution_count": 25,
      "metadata": {
        "id": "31VccFaLx6NA"
      },
      "outputs": [],
      "source": [
        "x_train = vectorize_sequences(train_data)\n",
        "x_test = vectorize_sequences(test_data)"
      ]
    },
    {
      "cell_type": "markdown",
      "metadata": {
        "id": "s4X1FU56x6NA"
      },
      "source": [
        "**Encoding the labels**"
      ]
    },
    {
      "cell_type": "code",
      "execution_count": 26,
      "metadata": {
        "id": "f6EBbT-Bx6NA"
      },
      "outputs": [],
      "source": [
        "def to_one_hot(labels, dimension=46):\n",
        "    results = np.zeros((len(labels), dimension))\n",
        "    for i, label in enumerate(labels):\n",
        "        results[i, label] = 1.\n",
        "    return results\n",
        "y_train = to_one_hot(train_labels)\n",
        "y_test = to_one_hot(test_labels)"
      ]
    },
    {
      "cell_type": "code",
      "execution_count": 27,
      "metadata": {
        "id": "NvxoWYAwx6NB"
      },
      "outputs": [],
      "source": [
        "from tensorflow.keras.utils import to_categorical\n",
        "y_train = to_categorical(train_labels)\n",
        "y_test = to_categorical(test_labels)"
      ]
    },
    {
      "cell_type": "markdown",
      "metadata": {
        "id": "35mqs8ffx6NB"
      },
      "source": [
        "### Building your model"
      ]
    },
    {
      "cell_type": "markdown",
      "metadata": {
        "id": "aJkGObUgx6NC"
      },
      "source": [
        "**Model definition**"
      ]
    },
    {
      "cell_type": "code",
      "execution_count": 28,
      "metadata": {
        "id": "3qqJW0R5x6NC"
      },
      "outputs": [],
      "source": [
        "model = keras.Sequential([\n",
        "    layers.Dense(64, activation=\"relu\"),\n",
        "    layers.Dense(64, activation=\"relu\"),\n",
        "    layers.Dense(46, activation=\"softmax\")\n",
        "])"
      ]
    },
    {
      "cell_type": "markdown",
      "metadata": {
        "id": "2IuzG4aHx6ND"
      },
      "source": [
        "**Compiling the model**"
      ]
    },
    {
      "cell_type": "code",
      "execution_count": 29,
      "metadata": {
        "id": "gLmujaCrx6ND"
      },
      "outputs": [],
      "source": [
        "model.compile(optimizer=\"rmsprop\",\n",
        "              loss=\"categorical_crossentropy\",\n",
        "              metrics=[\"accuracy\"])"
      ]
    },
    {
      "cell_type": "markdown",
      "metadata": {
        "id": "l3q_33rYx6ND"
      },
      "source": [
        "### Validating your approach"
      ]
    },
    {
      "cell_type": "markdown",
      "metadata": {
        "id": "L8mMvO4hx6NE"
      },
      "source": [
        "**Setting aside a validation set**"
      ]
    },
    {
      "cell_type": "code",
      "execution_count": 30,
      "metadata": {
        "id": "yIWIucVxx6NE"
      },
      "outputs": [],
      "source": [
        "x_val = x_train[:1000]\n",
        "partial_x_train = x_train[1000:]\n",
        "y_val = y_train[:1000]\n",
        "partial_y_train = y_train[1000:]"
      ]
    },
    {
      "cell_type": "markdown",
      "metadata": {
        "id": "BpO4YzGcx6NE"
      },
      "source": [
        "**Training the model**"
      ]
    },
    {
      "cell_type": "code",
      "execution_count": 31,
      "metadata": {
        "colab": {
          "base_uri": "https://localhost:8080/"
        },
        "id": "pj7tQ0k6x6NF",
        "outputId": "51e8f69d-f3ea-43d0-b7bd-c2a020be4569"
      },
      "outputs": [
        {
          "output_type": "stream",
          "name": "stdout",
          "text": [
            "Epoch 1/20\n",
            "16/16 [==============================] - 2s 71ms/step - loss: 2.8014 - accuracy: 0.4360 - val_loss: 1.9361 - val_accuracy: 0.5820\n",
            "Epoch 2/20\n",
            "16/16 [==============================] - 1s 53ms/step - loss: 1.6129 - accuracy: 0.6543 - val_loss: 1.4316 - val_accuracy: 0.6940\n",
            "Epoch 3/20\n",
            "16/16 [==============================] - 1s 50ms/step - loss: 1.2234 - accuracy: 0.7393 - val_loss: 1.2254 - val_accuracy: 0.7340\n",
            "Epoch 4/20\n",
            "16/16 [==============================] - 1s 50ms/step - loss: 0.9967 - accuracy: 0.7886 - val_loss: 1.1465 - val_accuracy: 0.7410\n",
            "Epoch 5/20\n",
            "16/16 [==============================] - 1s 51ms/step - loss: 0.8313 - accuracy: 0.8264 - val_loss: 1.0305 - val_accuracy: 0.7830\n",
            "Epoch 6/20\n",
            "16/16 [==============================] - 1s 51ms/step - loss: 0.6946 - accuracy: 0.8543 - val_loss: 0.9651 - val_accuracy: 0.7940\n",
            "Epoch 7/20\n",
            "16/16 [==============================] - 1s 52ms/step - loss: 0.5878 - accuracy: 0.8780 - val_loss: 0.9243 - val_accuracy: 0.8030\n",
            "Epoch 8/20\n",
            "16/16 [==============================] - 1s 56ms/step - loss: 0.4926 - accuracy: 0.8969 - val_loss: 0.9064 - val_accuracy: 0.8030\n",
            "Epoch 9/20\n",
            "16/16 [==============================] - 1s 92ms/step - loss: 0.4211 - accuracy: 0.9119 - val_loss: 0.8874 - val_accuracy: 0.8150\n",
            "Epoch 10/20\n",
            "16/16 [==============================] - 1s 79ms/step - loss: 0.3580 - accuracy: 0.9247 - val_loss: 0.8765 - val_accuracy: 0.8170\n",
            "Epoch 11/20\n",
            "16/16 [==============================] - 1s 52ms/step - loss: 0.3045 - accuracy: 0.9361 - val_loss: 0.8679 - val_accuracy: 0.8170\n",
            "Epoch 12/20\n",
            "16/16 [==============================] - 1s 51ms/step - loss: 0.2693 - accuracy: 0.9401 - val_loss: 0.8791 - val_accuracy: 0.8190\n",
            "Epoch 13/20\n",
            "16/16 [==============================] - 1s 51ms/step - loss: 0.2388 - accuracy: 0.9445 - val_loss: 0.9341 - val_accuracy: 0.8040\n",
            "Epoch 14/20\n",
            "16/16 [==============================] - 1s 48ms/step - loss: 0.2107 - accuracy: 0.9481 - val_loss: 0.8882 - val_accuracy: 0.8170\n",
            "Epoch 15/20\n",
            "16/16 [==============================] - 1s 53ms/step - loss: 0.1926 - accuracy: 0.9504 - val_loss: 0.9772 - val_accuracy: 0.8030\n",
            "Epoch 16/20\n",
            "16/16 [==============================] - 1s 51ms/step - loss: 0.1738 - accuracy: 0.9530 - val_loss: 0.9437 - val_accuracy: 0.8110\n",
            "Epoch 17/20\n",
            "16/16 [==============================] - 1s 50ms/step - loss: 0.1666 - accuracy: 0.9534 - val_loss: 0.9410 - val_accuracy: 0.8080\n",
            "Epoch 18/20\n",
            "16/16 [==============================] - 1s 51ms/step - loss: 0.1513 - accuracy: 0.9543 - val_loss: 1.0037 - val_accuracy: 0.7930\n",
            "Epoch 19/20\n",
            "16/16 [==============================] - 1s 51ms/step - loss: 0.1448 - accuracy: 0.9554 - val_loss: 0.9643 - val_accuracy: 0.8050\n",
            "Epoch 20/20\n",
            "16/16 [==============================] - 1s 47ms/step - loss: 0.1390 - accuracy: 0.9558 - val_loss: 0.9856 - val_accuracy: 0.8000\n"
          ]
        }
      ],
      "source": [
        "history = model.fit(partial_x_train,\n",
        "                    partial_y_train,\n",
        "                    epochs=20,\n",
        "                    batch_size=512,\n",
        "                    validation_data=(x_val, y_val))"
      ]
    },
    {
      "cell_type": "markdown",
      "metadata": {
        "id": "ExhqRkZVx6NF"
      },
      "source": [
        "**Plotting the training and validation loss**"
      ]
    },
    {
      "cell_type": "code",
      "execution_count": 32,
      "metadata": {
        "colab": {
          "base_uri": "https://localhost:8080/",
          "height": 472
        },
        "id": "IeYhjGChx6NF",
        "outputId": "08881c23-5197-4c3a-f9a3-3279adb88ce4"
      },
      "outputs": [
        {
          "output_type": "display_data",
          "data": {
            "text/plain": [
              "<Figure size 640x480 with 1 Axes>"
            ],
            "image/png": "[encoded data removed]"
          },
          "metadata": {}
        }
      ],
      "source": [
        "loss = history.history[\"loss\"]\n",
        "val_loss = history.history[\"val_loss\"]\n",
        "epochs = range(1, len(loss) + 1)\n",
        "plt.plot(epochs, loss, \"bo\", label=\"Training loss\")\n",
        "plt.plot(epochs, val_loss, \"b\", label=\"Validation loss\")\n",
        "plt.title(\"Training and validation loss\")\n",
        "plt.xlabel(\"Epochs\")\n",
        "plt.ylabel(\"Loss\")\n",
        "plt.legend()\n",
        "plt.show()"
      ]
    },
    {
      "cell_type": "markdown",
      "metadata": {
        "id": "g26mgFcqx6NG"
      },
      "source": [
        "**Plotting the training and validation accuracy**"
      ]
    },
    {
      "cell_type": "code",
      "execution_count": 33,
      "metadata": {
        "colab": {
          "base_uri": "https://localhost:8080/",
          "height": 472
        },
        "id": "ArUQI11Px6NG",
        "outputId": "ddf12dd9-1a10-43af-aa2c-3679de766148"
      },
      "outputs": [
        {
          "output_type": "display_data",
          "data": {
            "text/plain": [
              "<Figure size 640x480 with 1 Axes>"
            ],
            "image/png": "[encoded data removed]"
          },
          "metadata": {}
        }
      ],
      "source": [
        "plt.clf()\n",
        "acc = history.history[\"accuracy\"]\n",
        "val_acc = history.history[\"val_accuracy\"]\n",
        "plt.plot(epochs, acc, \"bo\", label=\"Training accuracy\")\n",
        "plt.plot(epochs, val_acc, \"b\", label=\"Validation accuracy\")\n",
        "plt.title(\"Training and validation accuracy\")\n",
        "plt.xlabel(\"Epochs\")\n",
        "plt.ylabel(\"Accuracy\")\n",
        "plt.legend()\n",
        "plt.show()"
      ]
    },
    {
      "cell_type": "markdown",
      "metadata": {
        "id": "SZUrO-Pmx6NG"
      },
      "source": [
        "**Retraining a model from scratch**"
      ]
    },
    {
      "cell_type": "code",
      "execution_count": 34,
      "metadata": {
        "colab": {
          "base_uri": "https://localhost:8080/"
        },
        "id": "S0qEN2_ux6NG",
        "outputId": "db615ea0-2843-4c58-c349-63975dc0de87"
      },
      "outputs": [
        {
          "output_type": "stream",
          "name": "stdout",
          "text": [
            "Epoch 1/9\n",
            "18/18 [==============================] - 2s 80ms/step - loss: 2.6775 - accuracy: 0.5238\n",
            "Epoch 2/9\n",
            "18/18 [==============================] - 1s 74ms/step - loss: 1.4840 - accuracy: 0.6853\n",
            "Epoch 3/9\n",
            "18/18 [==============================] - 1s 46ms/step - loss: 1.1435 - accuracy: 0.7509\n",
            "Epoch 4/9\n",
            "18/18 [==============================] - 1s 46ms/step - loss: 0.9291 - accuracy: 0.7998\n",
            "Epoch 5/9\n",
            "18/18 [==============================] - 1s 45ms/step - loss: 0.7725 - accuracy: 0.8331\n",
            "Epoch 6/9\n",
            "18/18 [==============================] - 1s 45ms/step - loss: 0.6400 - accuracy: 0.8608\n",
            "Epoch 7/9\n",
            "18/18 [==============================] - 1s 43ms/step - loss: 0.5395 - accuracy: 0.8820\n",
            "Epoch 8/9\n",
            "18/18 [==============================] - 1s 46ms/step - loss: 0.4496 - accuracy: 0.9054\n",
            "Epoch 9/9\n",
            "18/18 [==============================] - 1s 43ms/step - loss: 0.3815 - accuracy: 0.9201\n",
            "71/71 [==============================] - 0s 3ms/step - loss: 0.9352 - accuracy: 0.7903\n"
          ]
        }
      ],
      "source": [
        "model = keras.Sequential([\n",
        "  layers.Dense(64, activation=\"relu\"),\n",
        "  layers.Dense(64, activation=\"relu\"),\n",
        "  layers.Dense(46, activation=\"softmax\")\n",
        "])\n",
        "model.compile(optimizer=\"rmsprop\",\n",
        "              loss=\"categorical_crossentropy\",\n",
        "              metrics=[\"accuracy\"])\n",
        "model.fit(x_train,\n",
        "          y_train,\n",
        "          epochs=9,\n",
        "          batch_size=512)\n",
        "results = model.evaluate(x_test, y_test)"
      ]
    },
    {
      "cell_type": "code",
      "execution_count": 35,
      "metadata": {
        "colab": {
          "base_uri": "https://localhost:8080/"
        },
        "id": "CzVpmst8x6NH",
        "outputId": "73adc821-49a2-46ee-d8cb-c3b70dc95971"
      },
      "outputs": [
        {
          "output_type": "execute_result",
          "data": {
            "text/plain": [
              "[0.9352247714996338, 0.7902938723564148]"
            ]
          },
          "metadata": {},
          "execution_count": 35
        }
      ],
      "source": [
        "results"
      ]
    },
    {
      "cell_type": "code",
      "execution_count": 36,
      "metadata": {
        "colab": {
          "base_uri": "https://localhost:8080/"
        },
        "id": "95VjejPEx6NH",
        "outputId": "f2a11b23-4953-427e-8368-632fe650fd5e"
      },
      "outputs": [
        {
          "output_type": "execute_result",
          "data": {
            "text/plain": [
              "0.18699910952804988"
            ]
          },
          "metadata": {},
          "execution_count": 36
        }
      ],
      "source": [
        "import copy\n",
        "test_labels_copy = copy.copy(test_labels)\n",
        "np.random.shuffle(test_labels_copy)\n",
        "hits_array = np.array(test_labels) == np.array(test_labels_copy)\n",
        "hits_array.mean()"
      ]
    },
    {
      "cell_type": "markdown",
      "metadata": {
        "id": "yx6n-Njkx6NI"
      },
      "source": [
        "### Generating predictions on new data"
      ]
    },
    {
      "cell_type": "code",
      "execution_count": 37,
      "metadata": {
        "colab": {
          "base_uri": "https://localhost:8080/"
        },
        "id": "C4qoBqjnx6NI",
        "outputId": "c453a6b2-2e47-4836-b10a-238b0de287dc"
      },
      "outputs": [
        {
          "output_type": "stream",
          "name": "stdout",
          "text": [
            "71/71 [==============================] - 0s 3ms/step\n"
          ]
        }
      ],
      "source": [
        "predictions = model.predict(x_test)"
      ]
    },
    {
      "cell_type": "code",
      "execution_count": 38,
      "metadata": {
        "colab": {
          "base_uri": "https://localhost:8080/"
        },
        "id": "NaKGO0YSx6NI",
        "outputId": "56774881-c82c-48de-9cd5-b87daca6519c"
      },
      "outputs": [
        {
          "output_type": "execute_result",
          "data": {
            "text/plain": [
              "(46,)"
            ]
          },
          "metadata": {},
          "execution_count": 38
        }
      ],
      "source": [
        "predictions[0].shape"
      ]
    },
    {
      "cell_type": "code",
      "execution_count": 39,
      "metadata": {
        "colab": {
          "base_uri": "https://localhost:8080/"
        },
        "id": "b0jdvuWJx6NJ",
        "outputId": "9df5bd42-7394-4dcc-8c1c-6679bb2f82bf"
      },
      "outputs": [
        {
          "output_type": "execute_result",
          "data": {
            "text/plain": [
              "1.0"
            ]
          },
          "metadata": {},
          "execution_count": 39
        }
      ],
      "source": [
        "np.sum(predictions[0])"
      ]
    },
    {
      "cell_type": "code",
      "execution_count": 40,
      "metadata": {
        "colab": {
          "base_uri": "https://localhost:8080/"
        },
        "id": "X4UtyOznx6NJ",
        "outputId": "177079cf-f3c7-4e4d-f343-a473f33b56d0"
      },
      "outputs": [
        {
          "output_type": "execute_result",
          "data": {
            "text/plain": [
              "3"
            ]
          },
          "metadata": {},
          "execution_count": 40
        }
      ],
      "source": [
        "np.argmax(predictions[0])"
      ]
    },
    {
      "cell_type": "markdown",
      "metadata": {
        "id": "Kbyw7qawx6NK"
      },
      "source": [
        "### A different way to handle the labels and the loss"
      ]
    },
    {
      "cell_type": "code",
      "execution_count": 41,
      "metadata": {
        "id": "lB8Zo6lgx6NK"
      },
      "outputs": [],
      "source": [
        "y_train = np.array(train_labels)\n",
        "y_test = np.array(test_labels)"
      ]
    },
    {
      "cell_type": "code",
      "execution_count": 42,
      "metadata": {
        "id": "TT1tCjnpx6NK"
      },
      "outputs": [],
      "source": [
        "model.compile(optimizer=\"rmsprop\",\n",
        "              loss=\"sparse_categorical_crossentropy\",\n",
        "              metrics=[\"accuracy\"])"
      ]
    },
    {
      "cell_type": "markdown",
      "metadata": {
        "id": "Zab8ZNKMx6NL"
      },
      "source": [
        "### The importance of having sufficiently large intermediate layers"
      ]
    },
    {
      "cell_type": "markdown",
      "metadata": {
        "id": "y5b3qyDTx6NL"
      },
      "source": [
        "**A model with an information bottleneck**"
      ]
    },
    {
      "cell_type": "code",
      "execution_count": 43,
      "metadata": {
        "colab": {
          "base_uri": "https://localhost:8080/"
        },
        "id": "AKe2F52bx6NL",
        "outputId": "12f5e51e-57b4-4aea-826f-4dbcb645935d"
      },
      "outputs": [
        {
          "output_type": "stream",
          "name": "stdout",
          "text": [
            "Epoch 1/20\n",
            "63/63 [==============================] - 2s 21ms/step - loss: 3.2621 - accuracy: 0.2309 - val_loss: 2.5554 - val_accuracy: 0.5950\n",
            "Epoch 2/20\n",
            "63/63 [==============================] - 1s 24ms/step - loss: 1.9912 - accuracy: 0.6287 - val_loss: 1.6496 - val_accuracy: 0.6290\n",
            "Epoch 3/20\n",
            "63/63 [==============================] - 2s 26ms/step - loss: 1.4460 - accuracy: 0.6493 - val_loss: 1.4282 - val_accuracy: 0.6440\n",
            "Epoch 4/20\n",
            "63/63 [==============================] - 1s 22ms/step - loss: 1.2454 - accuracy: 0.6784 - val_loss: 1.3485 - val_accuracy: 0.6660\n",
            "Epoch 5/20\n",
            "63/63 [==============================] - 1s 16ms/step - loss: 1.1131 - accuracy: 0.7093 - val_loss: 1.2849 - val_accuracy: 0.6860\n",
            "Epoch 6/20\n",
            "63/63 [==============================] - 1s 16ms/step - loss: 1.0066 - accuracy: 0.7403 - val_loss: 1.2593 - val_accuracy: 0.7040\n",
            "Epoch 7/20\n",
            "63/63 [==============================] - 1s 16ms/step - loss: 0.9198 - accuracy: 0.7622 - val_loss: 1.2592 - val_accuracy: 0.7050\n",
            "Epoch 8/20\n",
            "63/63 [==============================] - 1s 16ms/step - loss: 0.8471 - accuracy: 0.7880 - val_loss: 1.2576 - val_accuracy: 0.7040\n",
            "Epoch 9/20\n",
            "63/63 [==============================] - 1s 17ms/step - loss: 0.7864 - accuracy: 0.8036 - val_loss: 1.2623 - val_accuracy: 0.7090\n",
            "Epoch 10/20\n",
            "63/63 [==============================] - 1s 16ms/step - loss: 0.7332 - accuracy: 0.8177 - val_loss: 1.2816 - val_accuracy: 0.7160\n",
            "Epoch 11/20\n",
            "63/63 [==============================] - 1s 16ms/step - loss: 0.6882 - accuracy: 0.8275 - val_loss: 1.3126 - val_accuracy: 0.7160\n",
            "Epoch 12/20\n",
            "63/63 [==============================] - 1s 16ms/step - loss: 0.6436 - accuracy: 0.8364 - val_loss: 1.3304 - val_accuracy: 0.7160\n",
            "Epoch 13/20\n",
            "63/63 [==============================] - 1s 22ms/step - loss: 0.6091 - accuracy: 0.8410 - val_loss: 1.3548 - val_accuracy: 0.7200\n",
            "Epoch 14/20\n",
            "63/63 [==============================] - 2s 25ms/step - loss: 0.5773 - accuracy: 0.8430 - val_loss: 1.4022 - val_accuracy: 0.7210\n",
            "Epoch 15/20\n",
            "63/63 [==============================] - 1s 18ms/step - loss: 0.5480 - accuracy: 0.8483 - val_loss: 1.4130 - val_accuracy: 0.7180\n",
            "Epoch 16/20\n",
            "63/63 [==============================] - 1s 16ms/step - loss: 0.5208 - accuracy: 0.8508 - val_loss: 1.5020 - val_accuracy: 0.7100\n",
            "Epoch 17/20\n",
            "63/63 [==============================] - 1s 16ms/step - loss: 0.5001 - accuracy: 0.8568 - val_loss: 1.5150 - val_accuracy: 0.7130\n",
            "Epoch 18/20\n",
            "63/63 [==============================] - 1s 16ms/step - loss: 0.4784 - accuracy: 0.8619 - val_loss: 1.5536 - val_accuracy: 0.7210\n",
            "Epoch 19/20\n",
            "63/63 [==============================] - 1s 16ms/step - loss: 0.4591 - accuracy: 0.8672 - val_loss: 1.5861 - val_accuracy: 0.7110\n",
            "Epoch 20/20\n",
            "63/63 [==============================] - 1s 17ms/step - loss: 0.4443 - accuracy: 0.8726 - val_loss: 1.6311 - val_accuracy: 0.7120\n"
          ]
        },
        {
          "output_type": "execute_result",
          "data": {
            "text/plain": [
              "<keras.src.callbacks.History at 0x7eefec2e16f0>"
            ]
          },
          "metadata": {},
          "execution_count": 43
        }
      ],
      "source": [
        "model = keras.Sequential([\n",
        "    layers.Dense(64, activation=\"relu\"),\n",
        "    layers.Dense(4, activation=\"relu\"),\n",
        "    layers.Dense(46, activation=\"softmax\")\n",
        "])\n",
        "model.compile(optimizer=\"rmsprop\",\n",
        "              loss=\"categorical_crossentropy\",\n",
        "              metrics=[\"accuracy\"])\n",
        "model.fit(partial_x_train,\n",
        "          partial_y_train,\n",
        "          epochs=20,\n",
        "          batch_size=128,\n",
        "          validation_data=(x_val, y_val))"
      ]
    },
    {
      "cell_type": "markdown",
      "metadata": {
        "id": "zvNusReUx6NM"
      },
      "source": [
        "### Further experiments"
      ]
    },
    {
      "cell_type": "markdown",
      "metadata": {
        "id": "4z0u7suqx6NM"
      },
      "source": [
        "### Wrapping up"
      ]
    },
    {
      "cell_type": "markdown",
      "metadata": {
        "id": "IKHkbVDex6NN"
      },
      "source": [
        "## Predicting house prices: A regression example"
      ]
    },
    {
      "cell_type": "markdown",
      "metadata": {
        "id": "5a0FA60xx6NN"
      },
      "source": [
        "### The Boston Housing Price dataset"
      ]
    },
    {
      "cell_type": "markdown",
      "metadata": {
        "id": "ik__n1Tsx6NN"
      },
      "source": [
        "**Loading the Boston housing dataset**"
      ]
    },
    {
      "cell_type": "code",
      "execution_count": 44,
      "metadata": {
        "colab": {
          "base_uri": "https://localhost:8080/"
        },
        "id": "a8Y_7b18x6NO",
        "outputId": "605fdd84-5162-429c-fed3-0f6e86579c88"
      },
      "outputs": [
        {
          "output_type": "stream",
          "name": "stdout",
          "text": [
            "Downloading data from https://storage.googleapis.com/tensorflow/tf-keras-datasets/boston_housing.npz\n",
            "57026/57026 [==============================] - 0s 0us/step\n"
          ]
        }
      ],
      "source": [
        "from tensorflow.keras.datasets import boston_housing\n",
        "(train_data, train_targets), (test_data, test_targets) = boston_housing.load_data()"
      ]
    },
    {
      "cell_type": "code",
      "execution_count": 45,
      "metadata": {
        "colab": {
          "base_uri": "https://localhost:8080/"
        },
        "id": "dAbSXdgox6NO",
        "outputId": "51c478d3-3a76-4760-a17f-27aec1aff225"
      },
      "outputs": [
        {
          "output_type": "execute_result",
          "data": {
            "text/plain": [
              "(404, 13)"
            ]
          },
          "metadata": {},
          "execution_count": 45
        }
      ],
      "source": [
        "train_data.shape"
      ]
    },
    {
      "cell_type": "code",
      "execution_count": 46,
      "metadata": {
        "colab": {
          "base_uri": "https://localhost:8080/"
        },
        "id": "6hB9d2aUx6NO",
        "outputId": "977987cc-4861-4149-ec34-e95f4f90fb36"
      },
      "outputs": [
        {
          "output_type": "execute_result",
          "data": {
            "text/plain": [
              "(102, 13)"
            ]
          },
          "metadata": {},
          "execution_count": 46
        }
      ],
      "source": [
        "test_data.shape"
      ]
    },
    {
      "cell_type": "code",
      "execution_count": 47,
      "metadata": {
        "colab": {
          "base_uri": "https://localhost:8080/"
        },
        "id": "P7JZFRldx6NO",
        "outputId": "33fd315b-5e54-4bb1-83b4-e3a9bd2bbc42"
      },
      "outputs": [
        {
          "output_type": "execute_result",
          "data": {
            "text/plain": [
              "array([15.2, 42.3, 50. , 21.1, 17.7, 18.5, 11.3, 15.6, 15.6, 14.4, 12.1,\n",
              "       17.9, 23.1, 19.9, 15.7,  8.8, 50. , 22.5, 24.1, 27.5, 10.9, 30.8,\n",
              "       32.9, 24. , 18.5, 13.3, 22.9, 34.7, 16.6, 17.5, 22.3, 16.1, 14.9,\n",
              "       23.1, 34.9, 25. , 13.9, 13.1, 20.4, 20. , 15.2, 24.7, 22.2, 16.7,\n",
              "       12.7, 15.6, 18.4, 21. , 30.1, 15.1, 18.7,  9.6, 31.5, 24.8, 19.1,\n",
              "       22. , 14.5, 11. , 32. , 29.4, 20.3, 24.4, 14.6, 19.5, 14.1, 14.3,\n",
              "       15.6, 10.5,  6.3, 19.3, 19.3, 13.4, 36.4, 17.8, 13.5, 16.5,  8.3,\n",
              "       14.3, 16. , 13.4, 28.6, 43.5, 20.2, 22. , 23. , 20.7, 12.5, 48.5,\n",
              "       14.6, 13.4, 23.7, 50. , 21.7, 39.8, 38.7, 22.2, 34.9, 22.5, 31.1,\n",
              "       28.7, 46. , 41.7, 21. , 26.6, 15. , 24.4, 13.3, 21.2, 11.7, 21.7,\n",
              "       19.4, 50. , 22.8, 19.7, 24.7, 36.2, 14.2, 18.9, 18.3, 20.6, 24.6,\n",
              "       18.2,  8.7, 44. , 10.4, 13.2, 21.2, 37. , 30.7, 22.9, 20. , 19.3,\n",
              "       31.7, 32. , 23.1, 18.8, 10.9, 50. , 19.6,  5. , 14.4, 19.8, 13.8,\n",
              "       19.6, 23.9, 24.5, 25. , 19.9, 17.2, 24.6, 13.5, 26.6, 21.4, 11.9,\n",
              "       22.6, 19.6,  8.5, 23.7, 23.1, 22.4, 20.5, 23.6, 18.4, 35.2, 23.1,\n",
              "       27.9, 20.6, 23.7, 28. , 13.6, 27.1, 23.6, 20.6, 18.2, 21.7, 17.1,\n",
              "        8.4, 25.3, 13.8, 22.2, 18.4, 20.7, 31.6, 30.5, 20.3,  8.8, 19.2,\n",
              "       19.4, 23.1, 23. , 14.8, 48.8, 22.6, 33.4, 21.1, 13.6, 32.2, 13.1,\n",
              "       23.4, 18.9, 23.9, 11.8, 23.3, 22.8, 19.6, 16.7, 13.4, 22.2, 20.4,\n",
              "       21.8, 26.4, 14.9, 24.1, 23.8, 12.3, 29.1, 21. , 19.5, 23.3, 23.8,\n",
              "       17.8, 11.5, 21.7, 19.9, 25. , 33.4, 28.5, 21.4, 24.3, 27.5, 33.1,\n",
              "       16.2, 23.3, 48.3, 22.9, 22.8, 13.1, 12.7, 22.6, 15. , 15.3, 10.5,\n",
              "       24. , 18.5, 21.7, 19.5, 33.2, 23.2,  5. , 19.1, 12.7, 22.3, 10.2,\n",
              "       13.9, 16.3, 17. , 20.1, 29.9, 17.2, 37.3, 45.4, 17.8, 23.2, 29. ,\n",
              "       22. , 18. , 17.4, 34.6, 20.1, 25. , 15.6, 24.8, 28.2, 21.2, 21.4,\n",
              "       23.8, 31. , 26.2, 17.4, 37.9, 17.5, 20. ,  8.3, 23.9,  8.4, 13.8,\n",
              "        7.2, 11.7, 17.1, 21.6, 50. , 16.1, 20.4, 20.6, 21.4, 20.6, 36.5,\n",
              "        8.5, 24.8, 10.8, 21.9, 17.3, 18.9, 36.2, 14.9, 18.2, 33.3, 21.8,\n",
              "       19.7, 31.6, 24.8, 19.4, 22.8,  7.5, 44.8, 16.8, 18.7, 50. , 50. ,\n",
              "       19.5, 20.1, 50. , 17.2, 20.8, 19.3, 41.3, 20.4, 20.5, 13.8, 16.5,\n",
              "       23.9, 20.6, 31.5, 23.3, 16.8, 14. , 33.8, 36.1, 12.8, 18.3, 18.7,\n",
              "       19.1, 29. , 30.1, 50. , 50. , 22. , 11.9, 37.6, 50. , 22.7, 20.8,\n",
              "       23.5, 27.9, 50. , 19.3, 23.9, 22.6, 15.2, 21.7, 19.2, 43.8, 20.3,\n",
              "       33.2, 19.9, 22.5, 32.7, 22. , 17.1, 19. , 15. , 16.1, 25.1, 23.7,\n",
              "       28.7, 37.2, 22.6, 16.4, 25. , 29.8, 22.1, 17.4, 18.1, 30.3, 17.5,\n",
              "       24.7, 12.6, 26.5, 28.7, 13.3, 10.4, 24.4, 23. , 20. , 17.8,  7. ,\n",
              "       11.8, 24.4, 13.8, 19.4, 25.2, 19.4, 19.4, 29.1])"
            ]
          },
          "metadata": {},
          "execution_count": 47
        }
      ],
      "source": [
        "train_targets"
      ]
    },
    {
      "cell_type": "markdown",
      "metadata": {
        "id": "oRvl4RPFx6NP"
      },
      "source": [
        "### Preparing the data"
      ]
    },
    {
      "cell_type": "markdown",
      "metadata": {
        "id": "fiLuOV7Fx6NS"
      },
      "source": [
        "**Normalizing the data**"
      ]
    },
    {
      "cell_type": "code",
      "execution_count": 48,
      "metadata": {
        "id": "Myc-tNpVx6NS"
      },
      "outputs": [],
      "source": [
        "mean = train_data.mean(axis=0)\n",
        "train_data -= mean\n",
        "std = train_data.std(axis=0)\n",
        "train_data /= std\n",
        "test_data -= mean\n",
        "test_data /= std"
      ]
    },
    {
      "cell_type": "markdown",
      "metadata": {
        "id": "yu3nY1zzx6NS"
      },
      "source": [
        "### Building your model"
      ]
    },
    {
      "cell_type": "markdown",
      "metadata": {
        "id": "3CZwtRodx6NT"
      },
      "source": [
        "**Model definition**"
      ]
    },
    {
      "cell_type": "code",
      "execution_count": 49,
      "metadata": {
        "id": "vAb7HPodx6NT"
      },
      "outputs": [],
      "source": [
        "def build_model():\n",
        "    model = keras.Sequential([\n",
        "        layers.Dense(64, activation=\"relu\"),\n",
        "        layers.Dense(64, activation=\"relu\"),\n",
        "        layers.Dense(1)\n",
        "    ])\n",
        "    model.compile(optimizer=\"rmsprop\", loss=\"mse\", metrics=[\"mae\"])\n",
        "    return model"
      ]
    },
    {
      "cell_type": "markdown",
      "metadata": {
        "id": "0yyuxmXFx6NT"
      },
      "source": [
        "### Validating your approach using K-fold validation"
      ]
    },
    {
      "cell_type": "markdown",
      "metadata": {
        "id": "pLU6BYAKx6NU"
      },
      "source": [
        "**K-fold validation**"
      ]
    },
    {
      "cell_type": "code",
      "execution_count": 50,
      "metadata": {
        "colab": {
          "base_uri": "https://localhost:8080/"
        },
        "id": "jX-EXhlUx6NU",
        "outputId": "29d70ec7-2d44-469b-ac8a-013c9e6a88b2"
      },
      "outputs": [
        {
          "output_type": "stream",
          "name": "stdout",
          "text": [
            "Processing fold #0\n",
            "Processing fold #1\n",
            "Processing fold #2\n",
            "Processing fold #3\n"
          ]
        }
      ],
      "source": [
        "k = 4\n",
        "num_val_samples = len(train_data) // k\n",
        "num_epochs = 100\n",
        "all_scores = []\n",
        "for i in range(k):\n",
        "    print(f\"Processing fold #{i}\")\n",
        "    val_data = train_data[i * num_val_samples: (i + 1) * num_val_samples]\n",
        "    val_targets = train_targets[i * num_val_samples: (i + 1) * num_val_samples]\n",
        "    partial_train_data = np.concatenate(\n",
        "        [train_data[:i * num_val_samples],\n",
        "         train_data[(i + 1) * num_val_samples:]],\n",
        "        axis=0)\n",
        "    partial_train_targets = np.concatenate(\n",
        "        [train_targets[:i * num_val_samples],\n",
        "         train_targets[(i + 1) * num_val_samples:]],\n",
        "        axis=0)\n",
        "    model = build_model()\n",
        "    model.fit(partial_train_data, partial_train_targets,\n",
        "              epochs=num_epochs, batch_size=16, verbose=0)\n",
        "    val_mse, val_mae = model.evaluate(val_data, val_targets, verbose=0)\n",
        "    all_scores.append(val_mae)"
      ]
    },
    {
      "cell_type": "code",
      "execution_count": 51,
      "metadata": {
        "colab": {
          "base_uri": "https://localhost:8080/"
        },
        "id": "d7sIr80Dx6NU",
        "outputId": "c8abd47c-2fbd-4d0e-a84f-d2503c97fc4f"
      },
      "outputs": [
        {
          "output_type": "execute_result",
          "data": {
            "text/plain": [
              "[2.0519003868103027, 2.485666513442993, 2.4733080863952637, 2.4445972442626953]"
            ]
          },
          "metadata": {},
          "execution_count": 51
        }
      ],
      "source": [
        "all_scores"
      ]
    },
    {
      "cell_type": "code",
      "execution_count": 52,
      "metadata": {
        "colab": {
          "base_uri": "https://localhost:8080/"
        },
        "id": "tAs1pl3px6NV",
        "outputId": "ba22dfbe-eec0-499b-b5f8-e3c0a0f3dbfc"
      },
      "outputs": [
        {
          "output_type": "execute_result",
          "data": {
            "text/plain": [
              "2.3638680577278137"
            ]
          },
          "metadata": {},
          "execution_count": 52
        }
      ],
      "source": [
        "np.mean(all_scores)"
      ]
    },
    {
      "cell_type": "markdown",
      "metadata": {
        "id": "91ZphnlXx6NV"
      },
      "source": [
        "**Saving the validation logs at each fold**"
      ]
    },
    {
      "cell_type": "code",
      "execution_count": 53,
      "metadata": {
        "colab": {
          "base_uri": "https://localhost:8080/"
        },
        "id": "lcRei0QKx6NV",
        "outputId": "dc68e822-3fbf-4992-c58b-3f96e952bb3d"
      },
      "outputs": [
        {
          "output_type": "stream",
          "name": "stdout",
          "text": [
            "Processing fold #0\n",
            "Processing fold #1\n",
            "Processing fold #2\n",
            "Processing fold #3\n"
          ]
        }
      ],
      "source": [
        "num_epochs = 500\n",
        "all_mae_histories = []\n",
        "for i in range(k):\n",
        "    print(f\"Processing fold #{i}\")\n",
        "    val_data = train_data[i * num_val_samples: (i + 1) * num_val_samples]\n",
        "    val_targets = train_targets[i * num_val_samples: (i + 1) * num_val_samples]\n",
        "    partial_train_data = np.concatenate(\n",
        "        [train_data[:i * num_val_samples],\n",
        "         train_data[(i + 1) * num_val_samples:]],\n",
        "        axis=0)\n",
        "    partial_train_targets = np.concatenate(\n",
        "        [train_targets[:i * num_val_samples],\n",
        "         train_targets[(i + 1) * num_val_samples:]],\n",
        "        axis=0)\n",
        "    model = build_model()\n",
        "    history = model.fit(partial_train_data, partial_train_targets,\n",
        "                        validation_data=(val_data, val_targets),\n",
        "                        epochs=num_epochs, batch_size=16, verbose=0)\n",
        "    mae_history = history.history[\"val_mae\"]\n",
        "    all_mae_histories.append(mae_history)"
      ]
    },
    {
      "cell_type": "markdown",
      "metadata": {
        "id": "2yDi4A7Gx6NW"
      },
      "source": [
        "**Building the history of successive mean K-fold validation scores**"
      ]
    },
    {
      "cell_type": "code",
      "execution_count": 54,
      "metadata": {
        "id": "jvpB20X1x6NW"
      },
      "outputs": [],
      "source": [
        "average_mae_history = [\n",
        "    np.mean([x[i] for x in all_mae_histories]) for i in range(num_epochs)]"
      ]
    },
    {
      "cell_type": "markdown",
      "metadata": {
        "id": "U3wNjOP5x6NW"
      },
      "source": [
        "**Plotting validation scores**"
      ]
    },
    {
      "cell_type": "code",
      "execution_count": 55,
      "metadata": {
        "colab": {
          "base_uri": "https://localhost:8080/",
          "height": 449
        },
        "id": "Uuevj9UYx6NW",
        "outputId": "937022ee-1b37-470d-c2c6-1f733f486e0e"
      },
      "outputs": [
        {
          "output_type": "display_data",
          "data": {
            "text/plain": [
              "<Figure size 640x480 with 1 Axes>"
            ],
            "image/png": "[encoded data removed]"
          },
          "metadata": {}
        }
      ],
      "source": [
        "plt.plot(range(1, len(average_mae_history) + 1), average_mae_history)\n",
        "plt.xlabel(\"Epochs\")\n",
        "plt.ylabel(\"Validation MAE\")\n",
        "plt.show()"
      ]
    },
    {
      "cell_type": "markdown",
      "metadata": {
        "id": "wa27owVqx6NX"
      },
      "source": [
        "**Plotting validation scores, excluding the first 10 data points**"
      ]
    },
    {
      "cell_type": "code",
      "execution_count": 56,
      "metadata": {
        "colab": {
          "base_uri": "https://localhost:8080/",
          "height": 449
        },
        "id": "nD1rv2LGx6NX",
        "outputId": "e0285260-c6dc-4177-867f-226bd5040805"
      },
      "outputs": [
        {
          "output_type": "display_data",
          "data": {
            "text/plain": [
              "<Figure size 640x480 with 1 Axes>"
            ],
            "image/png": "[encoded data removed]"
          },
          "metadata": {}
        }
      ],
      "source": [
        "truncated_mae_history = average_mae_history[10:]\n",
        "plt.plot(range(1, len(truncated_mae_history) + 1), truncated_mae_history)\n",
        "plt.xlabel(\"Epochs\")\n",
        "plt.ylabel(\"Validation MAE\")\n",
        "plt.show()"
      ]
    },
    {
      "cell_type": "markdown",
      "metadata": {
        "id": "g-SBlColx6NX"
      },
      "source": [
        "**Training the final model**"
      ]
    },
    {
      "cell_type": "code",
      "execution_count": 57,
      "metadata": {
        "colab": {
          "base_uri": "https://localhost:8080/"
        },
        "id": "K9CLG6_6x6NY",
        "outputId": "87e2d152-1c55-4496-8b54-f47d5c3ebf1e"
      },
      "outputs": [
        {
          "output_type": "stream",
          "name": "stdout",
          "text": [
            "4/4 [==============================] - 0s 4ms/step - loss: 14.7440 - mae: 2.4941\n"
          ]
        }
      ],
      "source": [
        "model = build_model()\n",
        "model.fit(train_data, train_targets,\n",
        "          epochs=130, batch_size=16, verbose=0)\n",
        "test_mse_score, test_mae_score = model.evaluate(test_data, test_targets)"
      ]
    },
    {
      "cell_type": "code",
      "execution_count": 58,
      "metadata": {
        "colab": {
          "base_uri": "https://localhost:8080/"
        },
        "id": "hKEnWQ1Ux6NY",
        "outputId": "25f8daeb-7438-4b26-a9bd-c20fdd535b6d"
      },
      "outputs": [
        {
          "output_type": "execute_result",
          "data": {
            "text/plain": [
              "2.4941275119781494"
            ]
          },
          "metadata": {},
          "execution_count": 58
        }
      ],
      "source": [
        "test_mae_score"
      ]
    },
    {
      "cell_type": "markdown",
      "metadata": {
        "id": "hYrnzAC6x6NY"
      },
      "source": [
        "### Generating predictions on new data"
      ]
    },
    {
      "cell_type": "code",
      "execution_count": 59,
      "metadata": {
        "colab": {
          "base_uri": "https://localhost:8080/"
        },
        "id": "aZszfH_vx6NY",
        "outputId": "29c9cab3-b354-4257-f334-827b64dc960d"
      },
      "outputs": [
        {
          "output_type": "stream",
          "name": "stdout",
          "text": [
            "4/4 [==============================] - 0s 3ms/step\n"
          ]
        },
        {
          "output_type": "execute_result",
          "data": {
            "text/plain": [
              "array([7.7030783], dtype=float32)"
            ]
          },
          "metadata": {},
          "execution_count": 59
        }
      ],
      "source": [
        "predictions = model.predict(test_data)\n",
        "predictions[0]"
      ]
    },
    {
      "cell_type": "markdown",
      "metadata": {
        "id": "pd-3iBksx6NZ"
      },
      "source": [
        "### Wrapping up"
      ]
    },
    {
      "cell_type": "markdown",
      "metadata": {
        "id": "nkNP9E0Zx6NZ"
      },
      "source": [
        "## Summary"
      ]
    }
  ],
  "metadata": {
    "colab": {
      "provenance": [],
      "toc_visible": true,
      "include_colab_link": true
    },
    "kernelspec": {
      "display_name": "Python 3",
      "language": "python",
      "name": "python3"
    },
    "language_info": {
      "codemirror_mode": {
        "name": "ipython",
        "version": 3
      },
      "file_extension": ".py",
      "mimetype": "text/x-python",
      "name": "python",
      "nbconvert_exporter": "python",
      "pygments_lexer": "ipython3",
      "version": "3.7.0"
    }
  },
  "nbformat": 4,
  "nbformat_minor": 0
}